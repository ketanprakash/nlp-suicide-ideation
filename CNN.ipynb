{
 "cells": [
  {
   "attachments": {},
   "cell_type": "markdown",
   "metadata": {
    "id": "No_9ci7iEk4C"
   },
   "source": [
    "# Library"
   ]
  },
  {
   "cell_type": "code",
   "execution_count": 1,
   "metadata": {
    "tags": []
   },
   "outputs": [
    {
     "name": "stdout",
     "output_type": "stream",
     "text": [
      "Requirement already satisfied: pandas in c:\\users\\hasan\\anaconda3\\envs\\tensorflow_gpu_zein\\lib\\site-packages (1.5.3)\n",
      "Requirement already satisfied: numpy>=1.21.0 in c:\\users\\hasan\\anaconda3\\envs\\tensorflow_gpu_zein\\lib\\site-packages (from pandas) (1.23.5)\n",
      "Requirement already satisfied: pytz>=2020.1 in c:\\users\\hasan\\anaconda3\\envs\\tensorflow_gpu_zein\\lib\\site-packages (from pandas) (2023.3)\n",
      "Requirement already satisfied: python-dateutil>=2.8.1 in c:\\users\\hasan\\anaconda3\\envs\\tensorflow_gpu_zein\\lib\\site-packages (from pandas) (2.8.2)\n",
      "Requirement already satisfied: six>=1.5 in c:\\users\\hasan\\anaconda3\\envs\\tensorflow_gpu_zein\\lib\\site-packages (from python-dateutil>=2.8.1->pandas) (1.16.0)\n"
     ]
    },
    {
     "name": "stderr",
     "output_type": "stream",
     "text": [
      "WARNING: Ignoring invalid distribution -rotobuf (c:\\users\\hasan\\anaconda3\\envs\\tensorflow_gpu_zein\\lib\\site-packages)\n",
      "WARNING: Ignoring invalid distribution -rotobuf (c:\\users\\hasan\\anaconda3\\envs\\tensorflow_gpu_zein\\lib\\site-packages)\n",
      "WARNING: Ignoring invalid distribution -rotobuf (c:\\users\\hasan\\anaconda3\\envs\\tensorflow_gpu_zein\\lib\\site-packages)\n",
      "WARNING: Ignoring invalid distribution -rotobuf (c:\\users\\hasan\\anaconda3\\envs\\tensorflow_gpu_zein\\lib\\site-packages)\n",
      "WARNING: Ignoring invalid distribution -rotobuf (c:\\users\\hasan\\anaconda3\\envs\\tensorflow_gpu_zein\\lib\\site-packages)\n",
      "WARNING: Ignoring invalid distribution -rotobuf (c:\\users\\hasan\\anaconda3\\envs\\tensorflow_gpu_zein\\lib\\site-packages)\n"
     ]
    }
   ],
   "source": [
    "!pip install pandas"
   ]
  },
  {
   "cell_type": "code",
   "execution_count": 2,
   "metadata": {
    "tags": []
   },
   "outputs": [
    {
     "name": "stdout",
     "output_type": "stream",
     "text": [
      "Requirement already satisfied: matplotlib in c:\\users\\hasan\\anaconda3\\envs\\tensorflow_gpu_zein\\lib\\site-packages (3.6.3)\n",
      "Requirement already satisfied: contourpy>=1.0.1 in c:\\users\\hasan\\anaconda3\\envs\\tensorflow_gpu_zein\\lib\\site-packages (from matplotlib) (1.0.7)\n",
      "Requirement already satisfied: cycler>=0.10 in c:\\users\\hasan\\anaconda3\\envs\\tensorflow_gpu_zein\\lib\\site-packages (from matplotlib) (0.11.0)\n",
      "Requirement already satisfied: packaging>=20.0 in c:\\users\\hasan\\anaconda3\\envs\\tensorflow_gpu_zein\\lib\\site-packages (from matplotlib) (23.1)\n",
      "Requirement already satisfied: pillow>=6.2.0 in c:\\users\\hasan\\anaconda3\\envs\\tensorflow_gpu_zein\\lib\\site-packages (from matplotlib) (9.4.0)\n",
      "Requirement already satisfied: python-dateutil>=2.7 in c:\\users\\hasan\\anaconda3\\envs\\tensorflow_gpu_zein\\lib\\site-packages (from matplotlib) (2.8.2)\n",
      "Requirement already satisfied: kiwisolver>=1.0.1 in c:\\users\\hasan\\anaconda3\\envs\\tensorflow_gpu_zein\\lib\\site-packages (from matplotlib) (1.4.4)\n",
      "Requirement already satisfied: fonttools>=4.22.0 in c:\\users\\hasan\\anaconda3\\envs\\tensorflow_gpu_zein\\lib\\site-packages (from matplotlib) (4.39.2)\n",
      "Requirement already satisfied: numpy>=1.19 in c:\\users\\hasan\\anaconda3\\envs\\tensorflow_gpu_zein\\lib\\site-packages (from matplotlib) (1.23.5)\n",
      "Requirement already satisfied: pyparsing>=2.2.1 in c:\\users\\hasan\\anaconda3\\envs\\tensorflow_gpu_zein\\lib\\site-packages (from matplotlib) (3.0.9)\n",
      "Requirement already satisfied: six>=1.5 in c:\\users\\hasan\\anaconda3\\envs\\tensorflow_gpu_zein\\lib\\site-packages (from python-dateutil>=2.7->matplotlib) (1.16.0)\n"
     ]
    },
    {
     "name": "stderr",
     "output_type": "stream",
     "text": [
      "WARNING: Ignoring invalid distribution -rotobuf (c:\\users\\hasan\\anaconda3\\envs\\tensorflow_gpu_zein\\lib\\site-packages)\n",
      "WARNING: Ignoring invalid distribution -rotobuf (c:\\users\\hasan\\anaconda3\\envs\\tensorflow_gpu_zein\\lib\\site-packages)\n",
      "WARNING: Ignoring invalid distribution -rotobuf (c:\\users\\hasan\\anaconda3\\envs\\tensorflow_gpu_zein\\lib\\site-packages)\n",
      "WARNING: Ignoring invalid distribution -rotobuf (c:\\users\\hasan\\anaconda3\\envs\\tensorflow_gpu_zein\\lib\\site-packages)\n",
      "WARNING: Ignoring invalid distribution -rotobuf (c:\\users\\hasan\\anaconda3\\envs\\tensorflow_gpu_zein\\lib\\site-packages)\n",
      "WARNING: Ignoring invalid distribution -rotobuf (c:\\users\\hasan\\anaconda3\\envs\\tensorflow_gpu_zein\\lib\\site-packages)\n"
     ]
    }
   ],
   "source": [
    "!pip install matplotlib"
   ]
  },
  {
   "cell_type": "code",
   "execution_count": 3,
   "metadata": {
    "tags": []
   },
   "outputs": [
    {
     "name": "stdout",
     "output_type": "stream",
     "text": [
      "Requirement already satisfied: opendatasets in c:\\users\\hasan\\anaconda3\\envs\\tensorflow_gpu_zein\\lib\\site-packages (0.1.22)\n",
      "Requirement already satisfied: click in c:\\users\\hasan\\anaconda3\\envs\\tensorflow_gpu_zein\\lib\\site-packages (from opendatasets) (8.1.3)\n",
      "Requirement already satisfied: kaggle in c:\\users\\hasan\\anaconda3\\envs\\tensorflow_gpu_zein\\lib\\site-packages (from opendatasets) (1.5.13)\n",
      "Requirement already satisfied: tqdm in c:\\users\\hasan\\anaconda3\\envs\\tensorflow_gpu_zein\\lib\\site-packages (from opendatasets) (4.64.1)\n",
      "Requirement already satisfied: colorama in c:\\users\\hasan\\anaconda3\\envs\\tensorflow_gpu_zein\\lib\\site-packages (from click->opendatasets) (0.4.6)\n",
      "Requirement already satisfied: urllib3 in c:\\users\\hasan\\anaconda3\\envs\\tensorflow_gpu_zein\\lib\\site-packages (from kaggle->opendatasets) (1.26.15)\n",
      "Requirement already satisfied: certifi in c:\\users\\hasan\\anaconda3\\envs\\tensorflow_gpu_zein\\lib\\site-packages (from kaggle->opendatasets) (2022.12.7)\n",
      "Requirement already satisfied: requests in c:\\users\\hasan\\anaconda3\\envs\\tensorflow_gpu_zein\\lib\\site-packages (from kaggle->opendatasets) (2.28.2)\n",
      "Requirement already satisfied: six>=1.10 in c:\\users\\hasan\\anaconda3\\envs\\tensorflow_gpu_zein\\lib\\site-packages (from kaggle->opendatasets) (1.16.0)\n",
      "Requirement already satisfied: python-dateutil in c:\\users\\hasan\\anaconda3\\envs\\tensorflow_gpu_zein\\lib\\site-packages (from kaggle->opendatasets) (2.8.2)\n",
      "Requirement already satisfied: python-slugify in c:\\users\\hasan\\anaconda3\\envs\\tensorflow_gpu_zein\\lib\\site-packages (from kaggle->opendatasets) (8.0.1)\n",
      "Requirement already satisfied: text-unidecode>=1.3 in c:\\users\\hasan\\anaconda3\\envs\\tensorflow_gpu_zein\\lib\\site-packages (from python-slugify->kaggle->opendatasets) (1.3)\n",
      "Requirement already satisfied: idna<4,>=2.5 in c:\\users\\hasan\\anaconda3\\envs\\tensorflow_gpu_zein\\lib\\site-packages (from requests->kaggle->opendatasets) (3.4)\n",
      "Requirement already satisfied: charset-normalizer<4,>=2 in c:\\users\\hasan\\anaconda3\\envs\\tensorflow_gpu_zein\\lib\\site-packages (from requests->kaggle->opendatasets) (3.1.0)\n"
     ]
    },
    {
     "name": "stderr",
     "output_type": "stream",
     "text": [
      "WARNING: Ignoring invalid distribution -rotobuf (c:\\users\\hasan\\anaconda3\\envs\\tensorflow_gpu_zein\\lib\\site-packages)\n",
      "WARNING: Ignoring invalid distribution -rotobuf (c:\\users\\hasan\\anaconda3\\envs\\tensorflow_gpu_zein\\lib\\site-packages)\n",
      "WARNING: Ignoring invalid distribution -rotobuf (c:\\users\\hasan\\anaconda3\\envs\\tensorflow_gpu_zein\\lib\\site-packages)\n",
      "WARNING: Ignoring invalid distribution -rotobuf (c:\\users\\hasan\\anaconda3\\envs\\tensorflow_gpu_zein\\lib\\site-packages)\n",
      "WARNING: Ignoring invalid distribution -rotobuf (c:\\users\\hasan\\anaconda3\\envs\\tensorflow_gpu_zein\\lib\\site-packages)\n",
      "WARNING: Ignoring invalid distribution -rotobuf (c:\\users\\hasan\\anaconda3\\envs\\tensorflow_gpu_zein\\lib\\site-packages)\n"
     ]
    }
   ],
   "source": [
    "!pip install opendatasets"
   ]
  },
  {
   "cell_type": "code",
   "execution_count": 4,
   "metadata": {
    "tags": []
   },
   "outputs": [
    {
     "name": "stdout",
     "output_type": "stream",
     "text": [
      "Requirement already satisfied: scikit-learn in c:\\users\\hasan\\anaconda3\\envs\\tensorflow_gpu_zein\\lib\\site-packages (1.2.2)\n",
      "Requirement already satisfied: threadpoolctl>=2.0.0 in c:\\users\\hasan\\anaconda3\\envs\\tensorflow_gpu_zein\\lib\\site-packages (from scikit-learn) (3.1.0)\n",
      "Requirement already satisfied: joblib>=1.1.1 in c:\\users\\hasan\\anaconda3\\envs\\tensorflow_gpu_zein\\lib\\site-packages (from scikit-learn) (1.2.0)\n",
      "Requirement already satisfied: scipy>=1.3.2 in c:\\users\\hasan\\anaconda3\\envs\\tensorflow_gpu_zein\\lib\\site-packages (from scikit-learn) (1.9.3)\n",
      "Requirement already satisfied: numpy>=1.17.3 in c:\\users\\hasan\\anaconda3\\envs\\tensorflow_gpu_zein\\lib\\site-packages (from scikit-learn) (1.23.5)\n"
     ]
    },
    {
     "name": "stderr",
     "output_type": "stream",
     "text": [
      "WARNING: Ignoring invalid distribution -rotobuf (c:\\users\\hasan\\anaconda3\\envs\\tensorflow_gpu_zein\\lib\\site-packages)\n",
      "WARNING: Ignoring invalid distribution -rotobuf (c:\\users\\hasan\\anaconda3\\envs\\tensorflow_gpu_zein\\lib\\site-packages)\n",
      "WARNING: Ignoring invalid distribution -rotobuf (c:\\users\\hasan\\anaconda3\\envs\\tensorflow_gpu_zein\\lib\\site-packages)\n",
      "WARNING: Ignoring invalid distribution -rotobuf (c:\\users\\hasan\\anaconda3\\envs\\tensorflow_gpu_zein\\lib\\site-packages)\n",
      "WARNING: Ignoring invalid distribution -rotobuf (c:\\users\\hasan\\anaconda3\\envs\\tensorflow_gpu_zein\\lib\\site-packages)\n",
      "WARNING: Ignoring invalid distribution -rotobuf (c:\\users\\hasan\\anaconda3\\envs\\tensorflow_gpu_zein\\lib\\site-packages)\n"
     ]
    }
   ],
   "source": [
    "!pip install scikit-learn"
   ]
  },
  {
   "cell_type": "code",
   "execution_count": 5,
   "metadata": {
    "id": "HqzGEMvPEk4F",
    "tags": []
   },
   "outputs": [],
   "source": [
    "# Library to dataset\n",
    "import pandas as pd\n",
    "import numpy as np\n",
    "import matplotlib.pyplot as plt\n",
    "import opendatasets as od\n",
    "\n",
    "# Library tensorflow\n",
    "import tensorflow as tf\n",
    "from tensorflow.keras.preprocessing.text import Tokenizer\n",
    "from tensorflow.keras.preprocessing.sequence import pad_sequences\n",
    "from tensorflow.keras.callbacks import ModelCheckpoint, EarlyStopping, ReduceLROnPlateau\n",
    "\n",
    "# Surpress warning\n",
    "import warnings\n",
    "warnings.filterwarnings(\"ignore\")\n",
    "\n",
    "# Library sklearn\n",
    "from sklearn.preprocessing import LabelEncoder\n",
    "from sklearn.model_selection import train_test_split\n",
    "\n",
    "# pickle\n",
    "import pickle\n"
   ]
  },
  {
   "attachments": {},
   "cell_type": "markdown",
   "metadata": {},
   "source": [
    "# Dataset"
   ]
  },
  {
   "cell_type": "code",
   "execution_count": 6,
   "metadata": {
    "colab": {
     "base_uri": "https://localhost:8080/",
     "height": 206
    },
    "id": "ly5YTaNrEk4G",
    "outputId": "9a0d7fcf-2d0b-4ba2-ff17-0ad1e27d4b71",
    "tags": []
   },
   "outputs": [
    {
     "data": {
      "text/html": [
       "<div>\n",
       "<style scoped>\n",
       "    .dataframe tbody tr th:only-of-type {\n",
       "        vertical-align: middle;\n",
       "    }\n",
       "\n",
       "    .dataframe tbody tr th {\n",
       "        vertical-align: top;\n",
       "    }\n",
       "\n",
       "    .dataframe thead th {\n",
       "        text-align: right;\n",
       "    }\n",
       "</style>\n",
       "<table border=\"1\" class=\"dataframe\">\n",
       "  <thead>\n",
       "    <tr style=\"text-align: right;\">\n",
       "      <th></th>\n",
       "      <th>text</th>\n",
       "      <th>class</th>\n",
       "      <th>clean_text</th>\n",
       "    </tr>\n",
       "  </thead>\n",
       "  <tbody>\n",
       "    <tr>\n",
       "      <th>0</th>\n",
       "      <td>Ex Wife Threatening SuicideRecently I left my ...</td>\n",
       "      <td>suicide</td>\n",
       "      <td>ex wife threaten suiciderec left wife good che...</td>\n",
       "    </tr>\n",
       "    <tr>\n",
       "      <th>1</th>\n",
       "      <td>Am I weird I don't get affected by compliments...</td>\n",
       "      <td>non-suicide</td>\n",
       "      <td>weird get affect compliment come someon know i...</td>\n",
       "    </tr>\n",
       "    <tr>\n",
       "      <th>2</th>\n",
       "      <td>Finally 2020 is almost over... So I can never ...</td>\n",
       "      <td>non-suicide</td>\n",
       "      <td>final almost never hear bad year ever swear fu...</td>\n",
       "    </tr>\n",
       "    <tr>\n",
       "      <th>3</th>\n",
       "      <td>i need helpjust help me im crying so hard</td>\n",
       "      <td>suicide</td>\n",
       "      <td>need helpjust help im cri hard</td>\n",
       "    </tr>\n",
       "    <tr>\n",
       "      <th>4</th>\n",
       "      <td>I’m so lostHello, my name is Adam (16) and I’v...</td>\n",
       "      <td>suicide</td>\n",
       "      <td>losthello name adam struggl year afraid past y...</td>\n",
       "    </tr>\n",
       "  </tbody>\n",
       "</table>\n",
       "</div>"
      ],
      "text/plain": [
       "                                                text        class  \\\n",
       "0  Ex Wife Threatening SuicideRecently I left my ...      suicide   \n",
       "1  Am I weird I don't get affected by compliments...  non-suicide   \n",
       "2  Finally 2020 is almost over... So I can never ...  non-suicide   \n",
       "3          i need helpjust help me im crying so hard      suicide   \n",
       "4  I’m so lostHello, my name is Adam (16) and I’v...      suicide   \n",
       "\n",
       "                                          clean_text  \n",
       "0  ex wife threaten suiciderec left wife good che...  \n",
       "1  weird get affect compliment come someon know i...  \n",
       "2  final almost never hear bad year ever swear fu...  \n",
       "3                     need helpjust help im cri hard  \n",
       "4  losthello name adam struggl year afraid past y...  "
      ]
     },
     "execution_count": 6,
     "metadata": {},
     "output_type": "execute_result"
    }
   ],
   "source": [
    "# Read dataset\n",
    "data = pd.read_csv('clean_text.csv')\n",
    "data.head()"
   ]
  },
  {
   "attachments": {},
   "cell_type": "markdown",
   "metadata": {},
   "source": [
    "# Encoding"
   ]
  },
  {
   "cell_type": "code",
   "execution_count": 7,
   "metadata": {
    "id": "tI4zGvPDEk4H",
    "tags": []
   },
   "outputs": [],
   "source": [
    "X = data['clean_text'].astype(str)\n",
    "y = data['class']\n",
    "\n",
    "# encode class values as integers\n",
    "# Define label encoder\n",
    "encoder = LabelEncoder()\n",
    "# fit and transform\n",
    "encoded_y = encoder.fit_transform(y)"
   ]
  },
  {
   "attachments": {},
   "cell_type": "markdown",
   "metadata": {},
   "source": [
    "# Test Train Split"
   ]
  },
  {
   "cell_type": "code",
   "execution_count": 8,
   "metadata": {
    "id": "m7z7S5FdEk4H",
    "tags": []
   },
   "outputs": [],
   "source": [
    "# Test and train split\n",
    "X_train, X_test, y_train, y_test = train_test_split(X,encoded_y, test_size=.2, random_state=42)"
   ]
  },
  {
   "attachments": {},
   "cell_type": "markdown",
   "metadata": {
    "id": "YksTB-KzEk4I"
   },
   "source": [
    "# Data Preprocessing"
   ]
  },
  {
   "cell_type": "code",
   "execution_count": 9,
   "metadata": {
    "id": "sIEVlUS7Ek4I",
    "tags": []
   },
   "outputs": [],
   "source": [
    "vocab_size = 10_000\n",
    "max_length = 10_000\n",
    "trunc_type='post'\n",
    "padding_type='post'\n",
    "oov_tok = \"<OOV>\"\n",
    "\n",
    "# Initialize the Tokenizer class\n",
    "tokenizer = Tokenizer(num_words=vocab_size, oov_token=oov_tok)\n",
    "\n",
    "# Generate the word index dictionary\n",
    "tokenizer.fit_on_texts(X_train)\n",
    "word_index = tokenizer.word_index\n",
    "\n",
    "# Generate and pad the training sequences\n",
    "training_sequences = tokenizer.texts_to_sequences(X_train)\n",
    "training_padded = pad_sequences(training_sequences, maxlen=max_length, padding=padding_type, truncating=trunc_type)\n",
    "\n",
    "# Generate and pad the testing sequences\n",
    "testing_sequences = tokenizer.texts_to_sequences(X_test)\n",
    "testing_padded = pad_sequences(testing_sequences, maxlen=max_length, padding=padding_type, truncating=trunc_type)\n",
    "\n",
    "# Convert the labels lists into numpy arrays\n",
    "training_labels = np.array(y_train)\n",
    "testing_labels = np.array(y_test)"
   ]
  },
  {
   "cell_type": "code",
   "execution_count": 10,
   "metadata": {},
   "outputs": [],
   "source": [
    "# Save the word index dictionary\n",
    "np.save('word_index.npy', word_index)\n",
    "\n",
    "# Save Tokenizer\n",
    "with open('tokenizer.pickle', 'wb') as handle:\n",
    "    pickle.dump(tokenizer, handle, protocol=pickle.HIGHEST_PROTOCOL)"
   ]
  },
  {
   "attachments": {},
   "cell_type": "markdown",
   "metadata": {
    "id": "uw8lhhWEEk4J"
   },
   "source": [
    "# Basic Model Embeding Layers"
   ]
  },
  {
   "cell_type": "code",
   "execution_count": 11,
   "metadata": {
    "colab": {
     "base_uri": "https://localhost:8080/"
    },
    "id": "of8FCYLUEk4J",
    "outputId": "c84ae2f6-9b35-4989-e7ae-80118688de8c",
    "tags": []
   },
   "outputs": [
    {
     "name": "stdout",
     "output_type": "stream",
     "text": [
      "Model: \"sequential\"\n",
      "_________________________________________________________________\n",
      " Layer (type)                Output Shape              Param #   \n",
      "=================================================================\n",
      " embedding (Embedding)       (None, 10000, 16)         160000    \n",
      "                                                                 \n",
      " flatten (Flatten)           (None, 160000)            0         \n",
      "                                                                 \n",
      " dense (Dense)               (None, 128)               20480128  \n",
      "                                                                 \n",
      " dense_1 (Dense)             (None, 128)               16512     \n",
      "                                                                 \n",
      " dense_2 (Dense)             (None, 128)               16512     \n",
      "                                                                 \n",
      " dense_3 (Dense)             (None, 1)                 129       \n",
      "                                                                 \n",
      "=================================================================\n",
      "Total params: 20,673,281\n",
      "Trainable params: 20,673,281\n",
      "Non-trainable params: 0\n",
      "_________________________________________________________________\n"
     ]
    }
   ],
   "source": [
    "embedding_dim = 16\n",
    "\n",
    "# Initialize the model\n",
    "model = tf.keras.Sequential([\n",
    "    tf.keras.layers.Embedding(vocab_size, embedding_dim, input_length=max_length),\n",
    "    tf.keras.layers.Flatten(),\n",
    "    tf.keras.layers.Dense(128, activation='relu'),\n",
    "    tf.keras.layers.Dense(128, activation='relu'),\n",
    "    tf.keras.layers.Dense(128, activation='relu'),\n",
    "    tf.keras.layers.Dense(1, activation='sigmoid')\n",
    "])\n",
    "\n",
    "# Compile the model\n",
    "model.compile(loss='binary_crossentropy',optimizer='adam',metrics=['accuracy'])\n",
    "\n",
    "# Print the model summary\n",
    "model.summary()"
   ]
  },
  {
   "cell_type": "code",
   "execution_count": 12,
   "metadata": {},
   "outputs": [],
   "source": [
    "# Difine the callbacks\n",
    "# Save the best model\n",
    "checkpoint_callback = ModelCheckpoint(filepath=\"Basic Model Embeding Layers.h5\", save_best_only=True, monitor=\"val_accuracy\", mode=\"max\", verbose=1)\n",
    "\n",
    "# Early stopping\n",
    "early_stopping_callback = EarlyStopping(monitor=\"val_accuracy\", mode=\"max\", patience=10, verbose=1, restore_best_weights=True)\n",
    "\n",
    "# Reduce learning rate\n",
    "reduce_lr_callback = ReduceLROnPlateau(monitor=\"val_loss\", factor=0.1, patience=5, verbose=1, mode=\"min\", min_delta=0.0001, cooldown=0, min_lr=0)\n",
    "\n",
    "# Callbacks list\n",
    "callbacks=[checkpoint_callback, early_stopping_callback, reduce_lr_callback]"
   ]
  },
  {
   "cell_type": "code",
   "execution_count": 13,
   "metadata": {
    "id": "wt_f2RcWEk4J",
    "tags": []
   },
   "outputs": [
    {
     "name": "stdout",
     "output_type": "stream",
     "text": [
      "Epoch 1/100\n",
      "5799/5802 [============================>.] - ETA: 0s - loss: 0.2011 - accuracy: 0.9216\n",
      "Epoch 1: val_accuracy improved from -inf to 0.93967, saving model to Basic Model Embeding Layers.h5\n",
      "5802/5802 [==============================] - 51s 8ms/step - loss: 0.2011 - accuracy: 0.9216 - val_loss: 0.1629 - val_accuracy: 0.9397 - lr: 0.0010\n",
      "Epoch 2/100\n",
      "5798/5802 [============================>.] - ETA: 0s - loss: 0.1565 - accuracy: 0.9416\n",
      "Epoch 2: val_accuracy improved from 0.93967 to 0.94030, saving model to Basic Model Embeding Layers.h5\n",
      "5802/5802 [==============================] - 49s 8ms/step - loss: 0.1565 - accuracy: 0.9416 - val_loss: 0.1603 - val_accuracy: 0.9403 - lr: 0.0010\n",
      "Epoch 3/100\n",
      "5796/5802 [============================>.] - ETA: 0s - loss: 0.1397 - accuracy: 0.9486\n",
      "Epoch 3: val_accuracy improved from 0.94030 to 0.94099, saving model to Basic Model Embeding Layers.h5\n",
      "5802/5802 [==============================] - 49s 8ms/step - loss: 0.1397 - accuracy: 0.9486 - val_loss: 0.1588 - val_accuracy: 0.9410 - lr: 0.0010\n",
      "Epoch 4/100\n",
      "5799/5802 [============================>.] - ETA: 0s - loss: 0.1279 - accuracy: 0.9530\n",
      "Epoch 4: val_accuracy did not improve from 0.94099\n",
      "5802/5802 [==============================] - 49s 8ms/step - loss: 0.1279 - accuracy: 0.9530 - val_loss: 0.1623 - val_accuracy: 0.9402 - lr: 0.0010\n",
      "Epoch 5/100\n",
      "5797/5802 [============================>.] - ETA: 0s - loss: 0.1115 - accuracy: 0.9592\n",
      "Epoch 5: val_accuracy did not improve from 0.94099\n",
      "5802/5802 [==============================] - 49s 8ms/step - loss: 0.1116 - accuracy: 0.9592 - val_loss: 0.1823 - val_accuracy: 0.9332 - lr: 0.0010\n",
      "Epoch 6/100\n",
      "5802/5802 [==============================] - ETA: 0s - loss: 0.0933 - accuracy: 0.9662\n",
      "Epoch 6: val_accuracy did not improve from 0.94099\n",
      "5802/5802 [==============================] - 47s 8ms/step - loss: 0.0933 - accuracy: 0.9662 - val_loss: 0.1857 - val_accuracy: 0.9371 - lr: 0.0010\n",
      "Epoch 7/100\n",
      "5802/5802 [==============================] - ETA: 0s - loss: 0.0780 - accuracy: 0.9725\n",
      "Epoch 7: val_accuracy did not improve from 0.94099\n",
      "5802/5802 [==============================] - 46s 8ms/step - loss: 0.0780 - accuracy: 0.9725 - val_loss: 0.2044 - val_accuracy: 0.9334 - lr: 0.0010\n",
      "Epoch 8/100\n",
      "5798/5802 [============================>.] - ETA: 0s - loss: 0.0643 - accuracy: 0.9775\n",
      "Epoch 8: val_accuracy did not improve from 0.94099\n",
      "\n",
      "Epoch 8: ReduceLROnPlateau reducing learning rate to 0.00010000000474974513.\n",
      "5802/5802 [==============================] - 46s 8ms/step - loss: 0.0643 - accuracy: 0.9775 - val_loss: 0.2474 - val_accuracy: 0.9305 - lr: 0.0010\n",
      "Epoch 9/100\n",
      "5798/5802 [============================>.] - ETA: 0s - loss: 0.0426 - accuracy: 0.9861\n",
      "Epoch 9: val_accuracy did not improve from 0.94099\n",
      "5802/5802 [==============================] - 46s 8ms/step - loss: 0.0426 - accuracy: 0.9860 - val_loss: 0.2867 - val_accuracy: 0.9270 - lr: 1.0000e-04\n",
      "Epoch 10/100\n",
      "5801/5802 [============================>.] - ETA: 0s - loss: 0.0381 - accuracy: 0.9877\n",
      "Epoch 10: val_accuracy did not improve from 0.94099\n",
      "5802/5802 [==============================] - 46s 8ms/step - loss: 0.0381 - accuracy: 0.9877 - val_loss: 0.3030 - val_accuracy: 0.9274 - lr: 1.0000e-04\n",
      "Epoch 11/100\n",
      "5800/5802 [============================>.] - ETA: 0s - loss: 0.0356 - accuracy: 0.9888\n",
      "Epoch 11: val_accuracy did not improve from 0.94099\n",
      "5802/5802 [==============================] - 48s 8ms/step - loss: 0.0356 - accuracy: 0.9888 - val_loss: 0.3273 - val_accuracy: 0.9266 - lr: 1.0000e-04\n",
      "Epoch 12/100\n",
      "5797/5802 [============================>.] - ETA: 0s - loss: 0.0333 - accuracy: 0.9896\n",
      "Epoch 12: val_accuracy did not improve from 0.94099\n",
      "5802/5802 [==============================] - 49s 8ms/step - loss: 0.0333 - accuracy: 0.9896 - val_loss: 0.3406 - val_accuracy: 0.9243 - lr: 1.0000e-04\n",
      "Epoch 13/100\n",
      "5796/5802 [============================>.] - ETA: 0s - loss: 0.0314 - accuracy: 0.9902\n",
      "Epoch 13: val_accuracy did not improve from 0.94099\n",
      "Restoring model weights from the end of the best epoch: 3.\n",
      "\n",
      "Epoch 13: ReduceLROnPlateau reducing learning rate to 1.0000000474974514e-05.\n",
      "5802/5802 [==============================] - 47s 8ms/step - loss: 0.0314 - accuracy: 0.9902 - val_loss: 0.3590 - val_accuracy: 0.9246 - lr: 1.0000e-04\n",
      "Epoch 13: early stopping\n"
     ]
    }
   ],
   "source": [
    "# Define the number of epochs\n",
    "num_epochs = 100\n",
    "\n",
    "# Train the model\n",
    "history = model.fit(training_padded, training_labels, epochs=num_epochs, validation_data=(testing_padded, testing_labels), callbacks=callbacks)"
   ]
  },
  {
   "cell_type": "code",
   "execution_count": 14,
   "metadata": {},
   "outputs": [
    {
     "name": "stdout",
     "output_type": "stream",
     "text": [
      "1451/1451 [==============================] - 4s 2ms/step - loss: 0.1588 - accuracy: 0.9410\n",
      "Test results - Loss: 0.15879160165786743 - Accuracy: 94.09888982772827%\n"
     ]
    }
   ],
   "source": [
    "# Evaluate the model\n",
    "results_base = model.evaluate(testing_padded, testing_labels)\n",
    "\n",
    "# print results\n",
    "print(f'Test results - Loss: {results_base[0]} - Accuracy: {100*results_base[1]}%')"
   ]
  },
  {
   "cell_type": "code",
   "execution_count": 15,
   "metadata": {
    "id": "tscfgTUxEk4K",
    "outputId": "3c42022d-dc3a-49a8-d2e8-762226ac2682",
    "tags": []
   },
   "outputs": [
    {
     "data": {
      "image/png": "[encoded data removed]",
      "text/plain": [
       "<Figure size 640x480 with 1 Axes>"
      ]
     },
     "metadata": {},
     "output_type": "display_data"
    },
    {
     "data": {
      "image/png": "[encoded data removed]",
      "text/plain": [
       "<Figure size 640x480 with 1 Axes>"
      ]
     },
     "metadata": {},
     "output_type": "display_data"
    }
   ],
   "source": [
    "# Plot utility\n",
    "def plot_graphs(history, string):\n",
    "  plt.plot(history.history[string])\n",
    "  plt.plot(history.history['val_'+string])\n",
    "  plt.xlabel(\"Epochs\")\n",
    "  plt.ylabel(string)\n",
    "  plt.legend([string, 'val_'+string])\n",
    "  plt.show()\n",
    "  \n",
    "# Plot the accuracy and loss\n",
    "plot_graphs(history, \"accuracy\")\n",
    "plot_graphs(history, \"loss\")"
   ]
  },
  {
   "attachments": {},
   "cell_type": "markdown",
   "metadata": {
    "id": "B0Msocs1Ek4K"
   },
   "source": [
    "# Model Basic + Global Average Pooling"
   ]
  },
  {
   "cell_type": "code",
   "execution_count": 16,
   "metadata": {
    "id": "smU8ZKgyEk4K",
    "outputId": "4eaa90c3-6807-4370-f2f5-25139bbb2192",
    "tags": []
   },
   "outputs": [
    {
     "name": "stdout",
     "output_type": "stream",
     "text": [
      "Model: \"sequential_1\"\n",
      "_________________________________________________________________\n",
      " Layer (type)                Output Shape              Param #   \n",
      "=================================================================\n",
      " embedding_1 (Embedding)     (None, 10000, 16)         160000    \n",
      "                                                                 \n",
      " global_average_pooling1d (G  (None, 16)               0         \n",
      " lobalAveragePooling1D)                                          \n",
      "                                                                 \n",
      " dense_4 (Dense)             (None, 128)               2176      \n",
      "                                                                 \n",
      " dense_5 (Dense)             (None, 128)               16512     \n",
      "                                                                 \n",
      " dense_6 (Dense)             (None, 128)               16512     \n",
      "                                                                 \n",
      " dense_7 (Dense)             (None, 1)                 129       \n",
      "                                                                 \n",
      "=================================================================\n",
      "Total params: 195,329\n",
      "Trainable params: 195,329\n",
      "Non-trainable params: 0\n",
      "_________________________________________________________________\n"
     ]
    }
   ],
   "source": [
    "embedding_dim = 16\n",
    "\n",
    "# Initialize the model\n",
    "model_GlobalAveragePooling1D = tf.keras.Sequential([\n",
    "    tf.keras.layers.Embedding(vocab_size, embedding_dim, input_length=max_length),\n",
    "    tf.keras.layers.GlobalAveragePooling1D(),\n",
    "    tf.keras.layers.Dense(128, activation='relu'),\n",
    "    tf.keras.layers.Dense(128, activation='relu'),\n",
    "    tf.keras.layers.Dense(128, activation='relu'),\n",
    "    tf.keras.layers.Dense(1, activation='sigmoid')\n",
    "])\n",
    "\n",
    "# Compile the model\n",
    "model_GlobalAveragePooling1D.compile(loss='binary_crossentropy',optimizer='adam',metrics=['accuracy'])\n",
    "\n",
    "# Print the model summary\n",
    "model_GlobalAveragePooling1D.summary()"
   ]
  },
  {
   "cell_type": "code",
   "execution_count": 17,
   "metadata": {},
   "outputs": [],
   "source": [
    "# Difine the callbacks\n",
    "# Save the best model\n",
    "checkpoint_callback = ModelCheckpoint(filepath=\"Model Basic + Global Average Pooling.h5\", save_best_only=True, monitor=\"val_accuracy\", mode=\"max\", verbose=1)\n",
    "\n",
    "# Early stopping\n",
    "early_stopping_callback = EarlyStopping(monitor=\"val_accuracy\", mode=\"max\", patience=10, verbose=1, restore_best_weights=True)\n",
    "\n",
    "# Reduce learning rate\n",
    "reduce_lr_callback = ReduceLROnPlateau(monitor=\"val_loss\", factor=0.1, patience=5, verbose=1, mode=\"min\", min_delta=0.0001, cooldown=0, min_lr=0)\n",
    "\n",
    "# Callbacks list\n",
    "callbacks=[checkpoint_callback, early_stopping_callback, reduce_lr_callback]"
   ]
  },
  {
   "cell_type": "code",
   "execution_count": 18,
   "metadata": {
    "id": "kgUSXmCqEk4L",
    "outputId": "ba0c3d0c-5aa0-4624-b5f8-ffef531433e5",
    "tags": []
   },
   "outputs": [
    {
     "name": "stdout",
     "output_type": "stream",
     "text": [
      "Epoch 1/100\n",
      "5801/5802 [============================>.] - ETA: 0s - loss: 0.4517 - accuracy: 0.7460\n",
      "Epoch 1: val_accuracy improved from -inf to 0.91623, saving model to Model Basic + Global Average Pooling.h5\n",
      "5802/5802 [==============================] - 32s 5ms/step - loss: 0.4517 - accuracy: 0.7461 - val_loss: 0.2283 - val_accuracy: 0.9162 - lr: 0.0010\n",
      "Epoch 2/100\n",
      "5793/5802 [============================>.] - ETA: 0s - loss: 0.2382 - accuracy: 0.9082\n",
      "Epoch 2: val_accuracy improved from 0.91623 to 0.92147, saving model to Model Basic + Global Average Pooling.h5\n",
      "5802/5802 [==============================] - 31s 5ms/step - loss: 0.2382 - accuracy: 0.9082 - val_loss: 0.2023 - val_accuracy: 0.9215 - lr: 0.0010\n",
      "Epoch 3/100\n",
      "5800/5802 [============================>.] - ETA: 0s - loss: 0.2209 - accuracy: 0.9155\n",
      "Epoch 3: val_accuracy did not improve from 0.92147\n",
      "5802/5802 [==============================] - 31s 5ms/step - loss: 0.2209 - accuracy: 0.9155 - val_loss: 0.2722 - val_accuracy: 0.8907 - lr: 0.0010\n",
      "Epoch 4/100\n",
      "5799/5802 [============================>.] - ETA: 0s - loss: 0.2085 - accuracy: 0.9206\n",
      "Epoch 4: val_accuracy improved from 0.92147 to 0.92729, saving model to Model Basic + Global Average Pooling.h5\n",
      "5802/5802 [==============================] - 31s 5ms/step - loss: 0.2085 - accuracy: 0.9206 - val_loss: 0.1905 - val_accuracy: 0.9273 - lr: 0.0010\n",
      "Epoch 5/100\n",
      "5794/5802 [============================>.] - ETA: 0s - loss: 0.2028 - accuracy: 0.9231\n",
      "Epoch 5: val_accuracy did not improve from 0.92729\n",
      "5802/5802 [==============================] - 31s 5ms/step - loss: 0.2027 - accuracy: 0.9231 - val_loss: 0.1942 - val_accuracy: 0.9244 - lr: 0.0010\n",
      "Epoch 6/100\n",
      "5801/5802 [============================>.] - ETA: 0s - loss: 0.1984 - accuracy: 0.9246\n",
      "Epoch 6: val_accuracy did not improve from 0.92729\n",
      "5802/5802 [==============================] - 32s 5ms/step - loss: 0.1984 - accuracy: 0.9246 - val_loss: 0.2045 - val_accuracy: 0.9226 - lr: 0.0010\n",
      "Epoch 7/100\n",
      "5797/5802 [============================>.] - ETA: 0s - loss: 0.1940 - accuracy: 0.9260\n",
      "Epoch 7: val_accuracy did not improve from 0.92729\n",
      "5802/5802 [==============================] - 35s 6ms/step - loss: 0.1940 - accuracy: 0.9260 - val_loss: 0.2019 - val_accuracy: 0.9241 - lr: 0.0010\n",
      "Epoch 8/100\n",
      "5799/5802 [============================>.] - ETA: 0s - loss: 0.1880 - accuracy: 0.9294\n",
      "Epoch 8: val_accuracy did not improve from 0.92729\n",
      "5802/5802 [==============================] - 35s 6ms/step - loss: 0.1881 - accuracy: 0.9294 - val_loss: 0.2111 - val_accuracy: 0.9241 - lr: 0.0010\n",
      "Epoch 9/100\n",
      "5794/5802 [============================>.] - ETA: 0s - loss: 0.1873 - accuracy: 0.9279\n",
      "Epoch 9: val_accuracy improved from 0.92729 to 0.93250, saving model to Model Basic + Global Average Pooling.h5\n",
      "5802/5802 [==============================] - 52s 9ms/step - loss: 0.1873 - accuracy: 0.9279 - val_loss: 0.1859 - val_accuracy: 0.9325 - lr: 0.0010\n",
      "Epoch 10/100\n",
      "5800/5802 [============================>.] - ETA: 0s - loss: 0.1850 - accuracy: 0.9287\n",
      "Epoch 10: val_accuracy improved from 0.93250 to 0.93349, saving model to Model Basic + Global Average Pooling.h5\n",
      "5802/5802 [==============================] - 56s 10ms/step - loss: 0.1850 - accuracy: 0.9288 - val_loss: 0.1757 - val_accuracy: 0.9335 - lr: 0.0010\n",
      "Epoch 11/100\n",
      "5795/5802 [============================>.] - ETA: 0s - loss: 0.1818 - accuracy: 0.9303\n",
      "Epoch 11: val_accuracy did not improve from 0.93349\n",
      "5802/5802 [==============================] - 34s 6ms/step - loss: 0.1817 - accuracy: 0.9303 - val_loss: 0.1756 - val_accuracy: 0.9322 - lr: 0.0010\n",
      "Epoch 12/100\n",
      "5797/5802 [============================>.] - ETA: 0s - loss: 0.1795 - accuracy: 0.9311\n",
      "Epoch 12: val_accuracy did not improve from 0.93349\n",
      "5802/5802 [==============================] - 34s 6ms/step - loss: 0.1795 - accuracy: 0.9311 - val_loss: 0.1871 - val_accuracy: 0.9290 - lr: 0.0010\n",
      "Epoch 13/100\n",
      "5794/5802 [============================>.] - ETA: 0s - loss: 0.1781 - accuracy: 0.9314\n",
      "Epoch 13: val_accuracy did not improve from 0.93349\n",
      "5802/5802 [==============================] - 33s 6ms/step - loss: 0.1780 - accuracy: 0.9314 - val_loss: 0.1764 - val_accuracy: 0.9327 - lr: 0.0010\n",
      "Epoch 14/100\n",
      "5798/5802 [============================>.] - ETA: 0s - loss: 0.1778 - accuracy: 0.9314\n",
      "Epoch 14: val_accuracy did not improve from 0.93349\n",
      "5802/5802 [==============================] - 33s 6ms/step - loss: 0.1778 - accuracy: 0.9314 - val_loss: 0.1901 - val_accuracy: 0.9332 - lr: 0.0010\n",
      "Epoch 15/100\n",
      "5799/5802 [============================>.] - ETA: 0s - loss: 0.1750 - accuracy: 0.9326\n",
      "Epoch 15: val_accuracy improved from 0.93349 to 0.93379, saving model to Model Basic + Global Average Pooling.h5\n",
      "\n",
      "Epoch 15: ReduceLROnPlateau reducing learning rate to 0.00010000000474974513.\n",
      "5802/5802 [==============================] - 33s 6ms/step - loss: 0.1750 - accuracy: 0.9326 - val_loss: 0.1828 - val_accuracy: 0.9338 - lr: 0.0010\n",
      "Epoch 16/100\n",
      "5799/5802 [============================>.] - ETA: 0s - loss: 0.1520 - accuracy: 0.9412\n",
      "Epoch 16: val_accuracy improved from 0.93379 to 0.93478, saving model to Model Basic + Global Average Pooling.h5\n",
      "5802/5802 [==============================] - 33s 6ms/step - loss: 0.1520 - accuracy: 0.9412 - val_loss: 0.1705 - val_accuracy: 0.9348 - lr: 1.0000e-04\n",
      "Epoch 17/100\n",
      "5798/5802 [============================>.] - ETA: 0s - loss: 0.1505 - accuracy: 0.9418\n",
      "Epoch 17: val_accuracy did not improve from 0.93478\n",
      "5802/5802 [==============================] - 33s 6ms/step - loss: 0.1505 - accuracy: 0.9418 - val_loss: 0.1766 - val_accuracy: 0.9342 - lr: 1.0000e-04\n",
      "Epoch 18/100\n",
      "5799/5802 [============================>.] - ETA: 0s - loss: 0.1501 - accuracy: 0.9415\n",
      "Epoch 18: val_accuracy improved from 0.93478 to 0.93500, saving model to Model Basic + Global Average Pooling.h5\n",
      "5802/5802 [==============================] - 34s 6ms/step - loss: 0.1501 - accuracy: 0.9415 - val_loss: 0.1701 - val_accuracy: 0.9350 - lr: 1.0000e-04\n",
      "Epoch 19/100\n",
      "5799/5802 [============================>.] - ETA: 0s - loss: 0.1496 - accuracy: 0.9419\n",
      "Epoch 19: val_accuracy improved from 0.93500 to 0.93539, saving model to Model Basic + Global Average Pooling.h5\n",
      "5802/5802 [==============================] - 34s 6ms/step - loss: 0.1496 - accuracy: 0.9419 - val_loss: 0.1699 - val_accuracy: 0.9354 - lr: 1.0000e-04\n",
      "Epoch 20/100\n",
      "5799/5802 [============================>.] - ETA: 0s - loss: 0.1489 - accuracy: 0.9419\n",
      "Epoch 20: val_accuracy did not improve from 0.93539\n",
      "5802/5802 [==============================] - 33s 6ms/step - loss: 0.1489 - accuracy: 0.9419 - val_loss: 0.1699 - val_accuracy: 0.9353 - lr: 1.0000e-04\n",
      "Epoch 21/100\n",
      "5801/5802 [============================>.] - ETA: 0s - loss: 0.1485 - accuracy: 0.9421\n",
      "Epoch 21: val_accuracy did not improve from 0.93539\n",
      "5802/5802 [==============================] - 33s 6ms/step - loss: 0.1485 - accuracy: 0.9421 - val_loss: 0.1779 - val_accuracy: 0.9339 - lr: 1.0000e-04\n",
      "Epoch 22/100\n",
      "5802/5802 [==============================] - ETA: 0s - loss: 0.1481 - accuracy: 0.9427\n",
      "Epoch 22: val_accuracy did not improve from 0.93539\n",
      "5802/5802 [==============================] - 33s 6ms/step - loss: 0.1481 - accuracy: 0.9427 - val_loss: 0.1780 - val_accuracy: 0.9319 - lr: 1.0000e-04\n",
      "Epoch 23/100\n",
      "5795/5802 [============================>.] - ETA: 0s - loss: 0.1481 - accuracy: 0.9424\n",
      "Epoch 23: val_accuracy did not improve from 0.93539\n",
      "5802/5802 [==============================] - 33s 6ms/step - loss: 0.1482 - accuracy: 0.9424 - val_loss: 0.1719 - val_accuracy: 0.9345 - lr: 1.0000e-04\n",
      "Epoch 24/100\n",
      "5793/5802 [============================>.] - ETA: 0s - loss: 0.1477 - accuracy: 0.9423\n",
      "Epoch 24: val_accuracy did not improve from 0.93539\n",
      "\n",
      "Epoch 24: ReduceLROnPlateau reducing learning rate to 1.0000000474974514e-05.\n",
      "5802/5802 [==============================] - 33s 6ms/step - loss: 0.1478 - accuracy: 0.9423 - val_loss: 0.1737 - val_accuracy: 0.9342 - lr: 1.0000e-04\n",
      "Epoch 25/100\n",
      "5801/5802 [============================>.] - ETA: 0s - loss: 0.1443 - accuracy: 0.9438\n",
      "Epoch 25: val_accuracy did not improve from 0.93539\n",
      "5802/5802 [==============================] - 38s 6ms/step - loss: 0.1443 - accuracy: 0.9438 - val_loss: 0.1709 - val_accuracy: 0.9353 - lr: 1.0000e-05\n",
      "Epoch 26/100\n",
      "5802/5802 [==============================] - ETA: 0s - loss: 0.1442 - accuracy: 0.9436\n",
      "Epoch 26: val_accuracy did not improve from 0.93539\n",
      "5802/5802 [==============================] - 34s 6ms/step - loss: 0.1442 - accuracy: 0.9436 - val_loss: 0.1712 - val_accuracy: 0.9348 - lr: 1.0000e-05\n",
      "Epoch 27/100\n",
      "5801/5802 [============================>.] - ETA: 0s - loss: 0.1441 - accuracy: 0.9437\n",
      "Epoch 27: val_accuracy did not improve from 0.93539\n",
      "5802/5802 [==============================] - 34s 6ms/step - loss: 0.1441 - accuracy: 0.9437 - val_loss: 0.1704 - val_accuracy: 0.9352 - lr: 1.0000e-05\n",
      "Epoch 28/100\n",
      "5797/5802 [============================>.] - ETA: 0s - loss: 0.1440 - accuracy: 0.9437\n",
      "Epoch 28: val_accuracy did not improve from 0.93539\n",
      "5802/5802 [==============================] - 34s 6ms/step - loss: 0.1441 - accuracy: 0.9436 - val_loss: 0.1710 - val_accuracy: 0.9351 - lr: 1.0000e-05\n",
      "Epoch 29/100\n",
      "5799/5802 [============================>.] - ETA: 0s - loss: 0.1441 - accuracy: 0.9437\n",
      "Epoch 29: val_accuracy did not improve from 0.93539\n",
      "Restoring model weights from the end of the best epoch: 19.\n",
      "\n",
      "Epoch 29: ReduceLROnPlateau reducing learning rate to 1.0000000656873453e-06.\n",
      "5802/5802 [==============================] - 33s 6ms/step - loss: 0.1441 - accuracy: 0.9437 - val_loss: 0.1720 - val_accuracy: 0.9354 - lr: 1.0000e-05\n",
      "Epoch 29: early stopping\n"
     ]
    }
   ],
   "source": [
    "num_epochs = 100\n",
    "\n",
    "# Train the model\n",
    "history_GlobalAveragePooling1D = model_GlobalAveragePooling1D.fit(training_padded, training_labels, epochs=num_epochs, validation_data=(testing_padded, testing_labels), callbacks=callbacks)"
   ]
  },
  {
   "cell_type": "code",
   "execution_count": 19,
   "metadata": {},
   "outputs": [
    {
     "name": "stdout",
     "output_type": "stream",
     "text": [
      "1451/1451 [==============================] - 3s 2ms/step - loss: 0.1699 - accuracy: 0.9354\n",
      "Test results - Loss: 0.16993598639965057 - Accuracy: 93.53872537612915%\n"
     ]
    }
   ],
   "source": [
    "# Evaluate the model\n",
    "results_GlobalAveragePooling1D = model_GlobalAveragePooling1D.evaluate(testing_padded, testing_labels)\n",
    "\n",
    "# print results\n",
    "print(f'Test results - Loss: {results_GlobalAveragePooling1D[0]} - Accuracy: {100*results_GlobalAveragePooling1D[1]}%')"
   ]
  },
  {
   "cell_type": "code",
   "execution_count": 20,
   "metadata": {
    "id": "7lb9p_i4Ek4L",
    "outputId": "d9ee52e8-a47b-492e-a4f7-80afa24eed24",
    "tags": []
   },
   "outputs": [
    {
     "data": {
      "image/png": "[encoded data removed]",
      "text/plain": [
       "<Figure size 640x480 with 1 Axes>"
      ]
     },
     "metadata": {},
     "output_type": "display_data"
    },
    {
     "data": {
      "image/png": "[encoded data removed]",
      "text/plain": [
       "<Figure size 640x480 with 1 Axes>"
      ]
     },
     "metadata": {},
     "output_type": "display_data"
    }
   ],
   "source": [
    "# Plot the accuracy and loss\n",
    "plot_graphs(history_GlobalAveragePooling1D, \"accuracy\")\n",
    "plot_graphs(history_GlobalAveragePooling1D, \"loss\")"
   ]
  },
  {
   "attachments": {},
   "cell_type": "markdown",
   "metadata": {
    "id": "sffDRy1uEk4N"
   },
   "source": [
    "# Model Embedding + Conv1D"
   ]
  },
  {
   "cell_type": "code",
   "execution_count": 21,
   "metadata": {
    "id": "vbpy4arMEk4N"
   },
   "outputs": [
    {
     "name": "stdout",
     "output_type": "stream",
     "text": [
      "Model: \"sequential_2\"\n",
      "_________________________________________________________________\n",
      " Layer (type)                Output Shape              Param #   \n",
      "=================================================================\n",
      " embedding_2 (Embedding)     (None, 10000, 16)         160000    \n",
      "                                                                 \n",
      " conv1d (Conv1D)             (None, 9996, 128)         10368     \n",
      "                                                                 \n",
      " global_max_pooling1d (Globa  (None, 128)              0         \n",
      " lMaxPooling1D)                                                  \n",
      "                                                                 \n",
      " dense_8 (Dense)             (None, 128)               16512     \n",
      "                                                                 \n",
      " dense_9 (Dense)             (None, 128)               16512     \n",
      "                                                                 \n",
      " dense_10 (Dense)            (None, 128)               16512     \n",
      "                                                                 \n",
      " dense_11 (Dense)            (None, 1)                 129       \n",
      "                                                                 \n",
      "=================================================================\n",
      "Total params: 220,033\n",
      "Trainable params: 220,033\n",
      "Non-trainable params: 0\n",
      "_________________________________________________________________\n"
     ]
    }
   ],
   "source": [
    "kernel_size = 5\n",
    "filters = 128\n",
    "\n",
    "# Initialize the model\n",
    "model_Conv1D = tf.keras.Sequential([\n",
    "    tf.keras.layers.Embedding(vocab_size, embedding_dim, input_length=max_length),\n",
    "    tf.keras.layers.Conv1D(filters=filters, kernel_size=kernel_size, activation='relu'),\n",
    "    tf.keras.layers.GlobalMaxPooling1D(),\n",
    "    tf.keras.layers.Dense(128, activation='relu'),\n",
    "    tf.keras.layers.Dense(128, activation='relu'),\n",
    "    tf.keras.layers.Dense(128, activation='relu'),\n",
    "    tf.keras.layers.Dense(1, activation='sigmoid')\n",
    "])\n",
    "\n",
    "# Compile the model\n",
    "model_Conv1D.compile(loss='binary_crossentropy',optimizer='adam',metrics=['accuracy'])\n",
    "\n",
    "# Print the model summary\n",
    "model_Conv1D.summary()"
   ]
  },
  {
   "cell_type": "code",
   "execution_count": 22,
   "metadata": {},
   "outputs": [],
   "source": [
    "# Difine the callbacks\n",
    "# Save the best model\n",
    "checkpoint_callback = ModelCheckpoint(filepath=\"Model Embedding + Conv1D.h5\", save_best_only=True, monitor=\"val_accuracy\", mode=\"max\", verbose=1)\n",
    "\n",
    "# Early stopping\n",
    "early_stopping_callback = EarlyStopping(monitor=\"val_accuracy\", mode=\"max\", patience=10, verbose=1, restore_best_weights=True)\n",
    "\n",
    "# Reduce learning rate\n",
    "reduce_lr_callback = ReduceLROnPlateau(monitor=\"val_loss\", factor=0.1, patience=5, verbose=1, mode=\"min\", min_delta=0.0001, cooldown=0, min_lr=0)\n",
    "\n",
    "# Callbacks list\n",
    "callbacks=[checkpoint_callback, early_stopping_callback, reduce_lr_callback]"
   ]
  },
  {
   "cell_type": "code",
   "execution_count": 23,
   "metadata": {
    "id": "WNv2Rk3bEk4N"
   },
   "outputs": [
    {
     "name": "stdout",
     "output_type": "stream",
     "text": [
      "Epoch 1/100\n",
      "5802/5802 [==============================] - ETA: 0s - loss: 0.1804 - accuracy: 0.9309\n",
      "Epoch 1: val_accuracy improved from -inf to 0.93530, saving model to Model Embedding + Conv1D.h5\n",
      "5802/5802 [==============================] - 174s 29ms/step - loss: 0.1804 - accuracy: 0.9309 - val_loss: 0.1678 - val_accuracy: 0.9353 - lr: 0.0010\n",
      "Epoch 2/100\n",
      "5801/5802 [============================>.] - ETA: 0s - loss: 0.1314 - accuracy: 0.9509\n",
      "Epoch 2: val_accuracy improved from 0.93530 to 0.94523, saving model to Model Embedding + Conv1D.h5\n",
      "5802/5802 [==============================] - 170s 29ms/step - loss: 0.1314 - accuracy: 0.9509 - val_loss: 0.1463 - val_accuracy: 0.9452 - lr: 0.0010\n",
      "Epoch 3/100\n",
      "5801/5802 [============================>.] - ETA: 0s - loss: 0.1075 - accuracy: 0.9601\n",
      "Epoch 3: val_accuracy did not improve from 0.94523\n",
      "5802/5802 [==============================] - 170s 29ms/step - loss: 0.1075 - accuracy: 0.9601 - val_loss: 0.1657 - val_accuracy: 0.9402 - lr: 0.0010\n",
      "Epoch 4/100\n",
      "5801/5802 [============================>.] - ETA: 0s - loss: 0.0856 - accuracy: 0.9685\n",
      "Epoch 4: val_accuracy did not improve from 0.94523\n",
      "5802/5802 [==============================] - 170s 29ms/step - loss: 0.0856 - accuracy: 0.9685 - val_loss: 0.1732 - val_accuracy: 0.9369 - lr: 0.0010\n",
      "Epoch 5/100\n",
      "5801/5802 [============================>.] - ETA: 0s - loss: 0.0689 - accuracy: 0.9742\n",
      "Epoch 5: val_accuracy did not improve from 0.94523\n",
      "5802/5802 [==============================] - 171s 29ms/step - loss: 0.0689 - accuracy: 0.9742 - val_loss: 0.1986 - val_accuracy: 0.9384 - lr: 0.0010\n",
      "Epoch 6/100\n",
      "5801/5802 [============================>.] - ETA: 0s - loss: 0.0571 - accuracy: 0.9789\n",
      "Epoch 6: val_accuracy did not improve from 0.94523\n",
      "5802/5802 [==============================] - 171s 29ms/step - loss: 0.0571 - accuracy: 0.9789 - val_loss: 0.1971 - val_accuracy: 0.9381 - lr: 0.0010\n",
      "Epoch 7/100\n",
      "5801/5802 [============================>.] - ETA: 0s - loss: 0.0474 - accuracy: 0.9826\n",
      "Epoch 7: val_accuracy did not improve from 0.94523\n",
      "\n",
      "Epoch 7: ReduceLROnPlateau reducing learning rate to 0.00010000000474974513.\n",
      "5802/5802 [==============================] - 171s 29ms/step - loss: 0.0474 - accuracy: 0.9826 - val_loss: 0.2382 - val_accuracy: 0.9371 - lr: 0.0010\n",
      "Epoch 8/100\n",
      "5801/5802 [============================>.] - ETA: 0s - loss: 0.0259 - accuracy: 0.9907\n",
      "Epoch 8: val_accuracy did not improve from 0.94523\n",
      "5802/5802 [==============================] - 170s 29ms/step - loss: 0.0259 - accuracy: 0.9907 - val_loss: 0.3170 - val_accuracy: 0.9351 - lr: 1.0000e-04\n",
      "Epoch 9/100\n",
      "5801/5802 [============================>.] - ETA: 0s - loss: 0.0192 - accuracy: 0.9933\n",
      "Epoch 9: val_accuracy did not improve from 0.94523\n",
      "5802/5802 [==============================] - 171s 29ms/step - loss: 0.0192 - accuracy: 0.9933 - val_loss: 0.3824 - val_accuracy: 0.9334 - lr: 1.0000e-04\n",
      "Epoch 10/100\n",
      "5802/5802 [==============================] - ETA: 0s - loss: 0.0153 - accuracy: 0.9948\n",
      "Epoch 10: val_accuracy did not improve from 0.94523\n",
      "5802/5802 [==============================] - 171s 29ms/step - loss: 0.0153 - accuracy: 0.9948 - val_loss: 0.4618 - val_accuracy: 0.9325 - lr: 1.0000e-04\n",
      "Epoch 11/100\n",
      "5801/5802 [============================>.] - ETA: 0s - loss: 0.0129 - accuracy: 0.9956\n",
      "Epoch 11: val_accuracy did not improve from 0.94523\n",
      "5802/5802 [==============================] - 170s 29ms/step - loss: 0.0129 - accuracy: 0.9956 - val_loss: 0.5350 - val_accuracy: 0.9315 - lr: 1.0000e-04\n",
      "Epoch 12/100\n",
      "5801/5802 [============================>.] - ETA: 0s - loss: 0.0108 - accuracy: 0.9963\n",
      "Epoch 12: val_accuracy did not improve from 0.94523\n",
      "Restoring model weights from the end of the best epoch: 2.\n",
      "\n",
      "Epoch 12: ReduceLROnPlateau reducing learning rate to 1.0000000474974514e-05.\n",
      "5802/5802 [==============================] - 170s 29ms/step - loss: 0.0108 - accuracy: 0.9963 - val_loss: 0.6187 - val_accuracy: 0.9312 - lr: 1.0000e-04\n",
      "Epoch 12: early stopping\n"
     ]
    }
   ],
   "source": [
    "num_epochs = 100\n",
    "\n",
    "# Train the model\n",
    "history_Conv1D = model_Conv1D.fit(training_padded, training_labels, epochs=num_epochs, validation_data=(testing_padded, testing_labels), callbacks=callbacks)"
   ]
  },
  {
   "cell_type": "code",
   "execution_count": 24,
   "metadata": {},
   "outputs": [
    {
     "name": "stdout",
     "output_type": "stream",
     "text": [
      "1451/1451 [==============================] - 17s 11ms/step - loss: 0.1463 - accuracy: 0.9452\n",
      "Test results - Loss: 0.14631249010562897 - Accuracy: 94.52332258224487%\n"
     ]
    }
   ],
   "source": [
    "# Evaluate the model\n",
    "results_Conv1D = model_Conv1D.evaluate(testing_padded, testing_labels)\n",
    "\n",
    "# print results\n",
    "print(f'Test results - Loss: {results_Conv1D[0]} - Accuracy: {100*results_Conv1D[1]}%')"
   ]
  },
  {
   "cell_type": "code",
   "execution_count": 25,
   "metadata": {
    "id": "Pu8IIFrnEk4N"
   },
   "outputs": [
    {
     "data": {
      "image/png": "[encoded data removed]",
      "text/plain": [
       "<Figure size 640x480 with 1 Axes>"
      ]
     },
     "metadata": {},
     "output_type": "display_data"
    },
    {
     "data": {
      "image/png": "[encoded data removed]",
      "text/plain": [
       "<Figure size 640x480 with 1 Axes>"
      ]
     },
     "metadata": {},
     "output_type": "display_data"
    }
   ],
   "source": [
    "# Plot the accuracy and loss\n",
    "plot_graphs(history_Conv1D, \"accuracy\")\n",
    "plot_graphs(history_Conv1D, \"loss\")"
   ]
  },
  {
   "attachments": {},
   "cell_type": "markdown",
   "metadata": {},
   "source": [
    "# Testing Model"
   ]
  },
  {
   "cell_type": "code",
   "execution_count": 31,
   "metadata": {},
   "outputs": [],
   "source": [
    "# Load all model\n",
    "model_base = tf.keras.models.load_model('Basic-Model-Embeding-Layers.h5')\n",
    "model_GlobalAveragePooling1D = tf.keras.models.load_model('Model-Basic-Global-Average-Pooling.h5')\n",
    "model_Conv1D = tf.keras.models.load_model('Model-Embedding-Conv1D.h5')"
   ]
  },
  {
   "attachments": {},
   "cell_type": "markdown",
   "metadata": {},
   "source": [
    "## Testing Base Model"
   ]
  },
  {
   "cell_type": "code",
   "execution_count": 33,
   "metadata": {},
   "outputs": [
    {
     "name": "stdout",
     "output_type": "stream",
     "text": [
      "1/1 [==============================] - 0s 15ms/step\n",
      "Potential Suicide Post\n"
     ]
    }
   ],
   "source": [
    "# Define the tweet\n",
    "twt = ['I will kill myself']\n",
    "twt = tokenizer.texts_to_sequences(twt)\n",
    "twt = pad_sequences(twt, maxlen=max_length, padding=padding_type, truncating=trunc_type)\n",
    "\n",
    "# Predict the sentiment\n",
    "prediction_base = model_base.predict(twt)\n",
    "\n",
    "# Print the prediction\n",
    "if(np.argmax(prediction_base) == 0):\n",
    "    print(\"Potential Suicide Post\")\n",
    "elif (np.argmax(prediction_base) == 1):\n",
    "    print(\"Non Suicide Post\")"
   ]
  },
  {
   "attachments": {},
   "cell_type": "markdown",
   "metadata": {},
   "source": [
    "## Testing Basic + Global Average Pooling"
   ]
  },
  {
   "cell_type": "code",
   "execution_count": 34,
   "metadata": {},
   "outputs": [
    {
     "name": "stdout",
     "output_type": "stream",
     "text": [
      "1/1 [==============================] - 0s 53ms/step\n",
      "Potential Suicide Post\n"
     ]
    }
   ],
   "source": [
    "# Testing Basic + Global Average Pooling\n",
    "prediction_Globalave = model_GlobalAveragePooling1D.predict(twt)\n",
    "\n",
    "# Print the prediction\n",
    "if(np.argmax(prediction_Globalave) == 0):\n",
    "    print(\"Potential Suicide Post\")\n",
    "elif (np.argmax(prediction_Globalave) == 1):\n",
    "    print(\"Non Suicide Post\")"
   ]
  },
  {
   "attachments": {},
   "cell_type": "markdown",
   "metadata": {},
   "source": [
    "## Testing Embeding + Conv1D"
   ]
  },
  {
   "cell_type": "code",
   "execution_count": 35,
   "metadata": {},
   "outputs": [
    {
     "name": "stdout",
     "output_type": "stream",
     "text": [
      "1/1 [==============================] - 0s 221ms/step\n",
      "Potential Suicide Post\n"
     ]
    }
   ],
   "source": [
    "# Testing Embeding + Conv1D\n",
    "prediction_EmbedCov1D = model_Conv1D.predict(twt)\n",
    "\n",
    "# Print the prediction\n",
    "if(np.argmax(prediction_EmbedCov1D) == 0):\n",
    "    print(\"Potential Suicide Post\")\n",
    "elif (np.argmax(prediction_EmbedCov1D) == 1):\n",
    "    print(\"Non Suicide Post\")"
   ]
  },
  {
   "attachments": {},
   "cell_type": "markdown",
   "metadata": {},
   "source": [
    "# Comparation Model"
   ]
  },
  {
   "cell_type": "code",
   "execution_count": 37,
   "metadata": {},
   "outputs": [
    {
     "data": {
      "text/html": [
       "<div>\n",
       "<style scoped>\n",
       "    .dataframe tbody tr th:only-of-type {\n",
       "        vertical-align: middle;\n",
       "    }\n",
       "\n",
       "    .dataframe tbody tr th {\n",
       "        vertical-align: top;\n",
       "    }\n",
       "\n",
       "    .dataframe thead th {\n",
       "        text-align: right;\n",
       "    }\n",
       "</style>\n",
       "<table border=\"1\" class=\"dataframe\">\n",
       "  <thead>\n",
       "    <tr style=\"text-align: right;\">\n",
       "      <th></th>\n",
       "      <th>Accuracy Score</th>\n",
       "    </tr>\n",
       "    <tr>\n",
       "      <th>Model</th>\n",
       "      <th></th>\n",
       "    </tr>\n",
       "  </thead>\n",
       "  <tbody>\n",
       "    <tr>\n",
       "      <th>Base + CNN</th>\n",
       "      <td>0.945233</td>\n",
       "    </tr>\n",
       "    <tr>\n",
       "      <th>Base Model</th>\n",
       "      <td>0.940989</td>\n",
       "    </tr>\n",
       "    <tr>\n",
       "      <th>Base + Global Average Pooling</th>\n",
       "      <td>0.935387</td>\n",
       "    </tr>\n",
       "  </tbody>\n",
       "</table>\n",
       "</div>"
      ],
      "text/plain": [
       "                               Accuracy Score\n",
       "Model                                        \n",
       "Base + CNN                           0.945233\n",
       "Base Model                           0.940989\n",
       "Base + Global Average Pooling        0.935387"
      ]
     },
     "execution_count": 37,
     "metadata": {},
     "output_type": "execute_result"
    }
   ],
   "source": [
    "# Compare model\n",
    "results=pd.DataFrame({'Model':['Base Model','Base + Global Average Pooling','Base + CNN'],\n",
    "                     'Accuracy Score':[results_base[1],results_GlobalAveragePooling1D[1],results_Conv1D[1]]})\n",
    "result_df=results.sort_values(by='Accuracy Score', ascending=False)\n",
    "result_df=result_df.set_index('Model')\n",
    "result_df"
   ]
  }
 ],
 "metadata": {
  "accelerator": "GPU",
  "colab": {
   "provenance": []
  },
  "gpuClass": "standard",
  "kernelspec": {
   "display_name": "Python 3 (ipykernel)",
   "language": "python",
   "name": "python3"
  },
  "language_info": {
   "codemirror_mode": {
    "name": "ipython",
    "version": 3
   },
   "file_extension": ".py",
   "mimetype": "text/x-python",
   "name": "python",
   "nbconvert_exporter": "python",
   "pygments_lexer": "ipython3",
   "version": "3.10.0"
  }
 },
 "nbformat": 4,
 "nbformat_minor": 4
}
